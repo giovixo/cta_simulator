{
 "cells": [
  {
   "cell_type": "markdown",
   "metadata": {
    "collapsed": true
   },
   "source": [
    "# Temporal model: 100 seconds from 100 % to 20 %"
   ]
  },
  {
   "cell_type": "markdown",
   "metadata": {},
   "source": [
    "## Create the fits file"
   ]
  },
  {
   "cell_type": "code",
   "execution_count": 7,
   "metadata": {},
   "outputs": [],
   "source": [
    "from astropy.table import Table\n",
    "import numpy as np\n",
    "# Create a Table\n",
    "time = np.linspace(0,1000,1001)\n",
    "norm = np.ones(1001) - 0.0008 * time\n",
    "data = Table([time, norm], names=('TIME','NORM'))\n",
    "# Write the table into a fits file\n",
    "data.write('temporal_model.fits', format='fits', overwrite=True)"
   ]
  },
  {
   "cell_type": "markdown",
   "metadata": {},
   "source": [
    "## Add some extensions"
   ]
  },
  {
   "cell_type": "code",
   "execution_count": 8,
   "metadata": {},
   "outputs": [
    {
     "name": "stdout",
     "output_type": "stream",
     "text": [
      "Filename: temporal_model.fits\n",
      "No.    Name      Ver    Type      Cards   Dimensions   Format\n",
      "  0  PRIMARY       1 PrimaryHDU       4   ()      \n",
      "  1                1 BinTableHDU     12   1001R x 2C   [D, D]   \n"
     ]
    }
   ],
   "source": [
    "from astropy.io import fits\n",
    "hdu = fits.open('temporal_model.fits')\n",
    "hdu.info()"
   ]
  },
  {
   "cell_type": "code",
   "execution_count": 9,
   "metadata": {},
   "outputs": [
    {
     "data": {
      "text/plain": [
       "XTENSION= 'BINTABLE'           / binary table extension                         \n",
       "BITPIX  =                    8 / array data type                                \n",
       "NAXIS   =                    2 / number of array dimensions                     \n",
       "NAXIS1  =                   16 / length of dimension 1                          \n",
       "NAXIS2  =                 1001 / length of dimension 2                          \n",
       "PCOUNT  =                    0 / number of group parameters                     \n",
       "GCOUNT  =                    1 / number of groups                               \n",
       "TFIELDS =                    2 / number of table fields                         \n",
       "TTYPE1  = 'TIME    '                                                            \n",
       "TFORM1  = 'D       '                                                            \n",
       "TTYPE2  = 'NORM    '                                                            \n",
       "TFORM2  = 'D       '                                                            \n",
       "EXTNAME = 'Time profile'                                                        \n",
       "MJDREFI =                51544                                                  \n",
       "MJDREFF =                  0.5                                                  \n",
       "TIMEUNIT= 's       '                                                            \n",
       "TIMESYS = 'TT      '                                                            \n",
       "TIMEREF = 'LOCAL   '                                                            \n",
       "TUNIT1  = 's       '                                                            "
      ]
     },
     "execution_count": 9,
     "metadata": {},
     "output_type": "execute_result"
    }
   ],
   "source": [
    "hdr = hdu[1].header\n",
    "hdr['EXTNAME'] = 'Time profile'\n",
    "hdr['MJDREFI'] = 51544\n",
    "hdr['MJDREFF'] = 0.5\n",
    "hdr['TIMEUNIT'] = 's'\n",
    "hdr['TIMESYS'] = 'TT'\n",
    "hdr['TIMEREF'] ='LOCAL'\n",
    "hdr['TUNIT1'] = 's'  \n",
    "hdr"
   ]
  },
  {
   "cell_type": "code",
   "execution_count": 10,
   "metadata": {},
   "outputs": [],
   "source": [
    "hdu.writeto('temporal_model.fits', overwrite=True)"
   ]
  }
 ],
 "metadata": {
  "kernelspec": {
   "display_name": "Python 3",
   "language": "python",
   "name": "python3"
  },
  "language_info": {
   "codemirror_mode": {
    "name": "ipython",
    "version": 3
   },
   "file_extension": ".py",
   "mimetype": "text/x-python",
   "name": "python",
   "nbconvert_exporter": "python",
   "pygments_lexer": "ipython3",
   "version": "3.6.5"
  }
 },
 "nbformat": 4,
 "nbformat_minor": 1
}
