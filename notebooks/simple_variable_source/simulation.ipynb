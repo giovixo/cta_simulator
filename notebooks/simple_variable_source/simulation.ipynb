{
 "cells": [
  {
   "cell_type": "markdown",
   "metadata": {},
   "source": [
    "# Run a simulation"
   ]
  },
  {
   "cell_type": "code",
   "execution_count": 1,
   "metadata": {},
   "outputs": [
    {
     "name": "stdout",
     "output_type": "stream",
     "text": [
      "gammalib version: 1.5.1\n",
      "ctools version: 1.5.1\n",
      "csscripts version: 1.5.1\n"
     ]
    }
   ],
   "source": [
    "import gammalib\n",
    "import ctools\n",
    "import cscripts\n",
    "print('gammalib version: {}'.format(gammalib.__version__))\n",
    "print('ctools version: {}'.format(ctools.__version__))\n",
    "print('csscripts version: {}'.format(cscripts.__version__))"
   ]
  },
  {
   "cell_type": "markdown",
   "metadata": {},
   "source": [
    "Simulate a 1000 seconds observation of a \"variable Crab\" (see the crab.xml model for details)"
   ]
  },
  {
   "cell_type": "code",
   "execution_count": 4,
   "metadata": {},
   "outputs": [],
   "source": [
    "sim = ctools.ctobssim()\n",
    "sim['inmodel']   = 'crab.xml'\n",
    "sim['outevents'] = 'events.fits'\n",
    "sim['caldb']     = 'prod2'\n",
    "sim['irf']       = 'South_0.5h'\n",
    "sim['ra']        = 83.6331\n",
    "sim['dec']       = 22.0145\n",
    "sim['rad']       = 5.0\n",
    "sim['tmin']      = 'MJD 51544.5' \n",
    "sim['tmax']      = 'MJD 51544.511574'\n",
    "sim['emin']      = 0.03\n",
    "sim['emax']      = 150.0\n",
    "sim.execute()"
   ]
  }
 ],
 "metadata": {
  "kernelspec": {
   "display_name": "Python 3",
   "language": "python",
   "name": "python3"
  },
  "language_info": {
   "codemirror_mode": {
    "name": "ipython",
    "version": 3
   },
   "file_extension": ".py",
   "mimetype": "text/x-python",
   "name": "python",
   "nbconvert_exporter": "python",
   "pygments_lexer": "ipython3",
   "version": "3.6.5"
  }
 },
 "nbformat": 4,
 "nbformat_minor": 2
}
